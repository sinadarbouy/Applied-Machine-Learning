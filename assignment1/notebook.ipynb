{
 "cells": [
  {
   "cell_type": "markdown",
   "source": "# Task 0",
   "metadata": {
    "cell_id": "ecd731cb7809411ab79c31c859ffa491",
    "tags": [],
    "is_collapsed": false,
    "deepnote_cell_type": "text-cell-h1"
   }
  },
  {
   "cell_type": "code",
   "metadata": {
    "tags": [],
    "cell_id": "4ceb8751-502f-45f7-9859-205912f959f8",
    "deepnote_to_be_reexecuted": false,
    "source_hash": "c76c7c51",
    "execution_start": 1648073094049,
    "execution_millis": 3,
    "deepnote_cell_type": "code",
    "deepnote_cell_height": 99.15625
   },
   "source": "import pandas as pd\nimport numpy as np",
   "execution_count": 4,
   "outputs": []
  },
  {
   "cell_type": "code",
   "source": "from sklearn.model_selection  import train_test_split",
   "metadata": {
    "cell_id": "f8222c06dceb4e1eaba218e597710d01",
    "tags": [],
    "deepnote_to_be_reexecuted": false,
    "source_hash": "50381f21",
    "execution_start": 1648073136781,
    "execution_millis": 0,
    "deepnote_cell_type": "code",
    "deepnote_cell_height": 81.15625
   },
   "outputs": [],
   "execution_count": 6
  },
  {
   "cell_type": "markdown",
   "source": "# Task 1",
   "metadata": {
    "cell_id": "9ecd537a0fd04e299f4eb8c2f0aba3d7",
    "tags": [],
    "is_collapsed": false,
    "deepnote_cell_type": "text-cell-h1"
   }
  },
  {
   "cell_type": "markdown",
   "source": "# Task 2",
   "metadata": {
    "cell_id": "7ae9e8ce83e143b48f101bb572241a47",
    "tags": [],
    "is_collapsed": false,
    "deepnote_cell_type": "text-cell-h1"
   }
  },
  {
   "cell_type": "markdown",
   "source": "# Task 3",
   "metadata": {
    "cell_id": "b4ccfb1dfd364569b499d294c5ad7180",
    "tags": [],
    "is_collapsed": false,
    "deepnote_cell_type": "text-cell-h1"
   }
  },
  {
   "cell_type": "code",
   "source": "from sklearn.model_selection  import train_test_split",
   "metadata": {
    "cell_id": "a2a874f2ba0c45249a8f220b18f66113",
    "tags": [],
    "deepnote_to_be_reexecuted": false,
    "source_hash": "50381f21",
    "execution_start": 1648073071519,
    "execution_millis": 186,
    "deepnote_cell_type": "code",
    "deepnote_cell_height": 81.15625
   },
   "outputs": [],
   "execution_count": 3
  },
  {
   "cell_type": "code",
   "source": "# Read the CSV file using Pandas.\nalldata = pd.read_csv('sberbank.csv')\n\n# Convert the timestamp string to an integer representing the year.\ndef get_year(timestamp):\n    return int(timestamp[:4])\nalldata['year'] = alldata.timestamp.apply(get_year)\n\n# Select the 9 input columns and the output column.\nselected_columns = ['price_doc', 'year', 'full_sq', 'life_sq', 'floor', 'num_room', 'kitch_sq', 'full_all']\nalldata = alldata[selected_columns]\nalldata = alldata.dropna()\n\n# Shuffle.\nalldata_shuffled = alldata.sample(frac=1.0, random_state=0)\n\n# Separate the input and output columns.\nX = alldata_shuffled.drop('price_doc', axis=1)\n# For the output, we'll use the log of the sales price.\nY = alldata_shuffled['price_doc'].apply(np.log)\n\n# Split into training and test sets.\nXtrain, Xtest, Ytrain, Ytest = train_test_split(X, Y, test_size=0.2, random_state=0)",
   "metadata": {
    "cell_id": "47a2d9cdb5ed46d89e570510510c6759",
    "tags": [],
    "deepnote_to_be_reexecuted": false,
    "source_hash": "a486fc15",
    "execution_start": 1648073103032,
    "execution_millis": 1073,
    "deepnote_cell_type": "code",
    "deepnote_cell_height": 477.15625,
    "deepnote_output_heights": [
     611
    ]
   },
   "outputs": [],
   "execution_count": 5
  },
  {
   "cell_type": "code",
   "source": "from sklearn.dummy import DummyRegressor\nfrom sklearn.model_selection import cross_validate\nm1 = DummyRegressor()\ncross_validate(m1, Xtrain, Ytrain, scoring='neg_mean_squared_error')",
   "metadata": {
    "cell_id": "0099262e2efe41a79294129135493f86",
    "tags": [],
    "deepnote_to_be_reexecuted": false,
    "source_hash": "dcf6184e",
    "execution_start": 1648073220894,
    "execution_millis": 7,
    "deepnote_cell_type": "code",
    "deepnote_cell_height": 210.828125,
    "deepnote_output_heights": [
     59.5625
    ]
   },
   "outputs": [
    {
     "output_type": "execute_result",
     "execution_count": 7,
     "data": {
      "text/plain": "{'fit_time': array([0.00331283, 0.00240898, 0.00270128, 0.00388455, 0.00236344]),\n 'score_time': array([0.00074887, 0.00061011, 0.00068569, 0.00059414, 0.00068617]),\n 'test_score': array([-0.39897319, -0.37113485, -0.38083108, -0.39057156, -0.40475168])}"
     },
     "metadata": {}
    }
   ],
   "execution_count": 7
  },
  {
   "cell_type": "code",
   "source": "from sklearn.metrics import mean_squared_error\n  \nm1.fit(Xtrain, Ytrain)\nmean_squared_error(Ytest, m1.predict(Xtest))",
   "metadata": {
    "cell_id": "cf9a32c3d0f74be7a308bc85e1273941",
    "tags": [],
    "deepnote_to_be_reexecuted": false,
    "source_hash": "a574882f",
    "execution_start": 1648073381775,
    "execution_millis": 2,
    "deepnote_cell_type": "code",
    "deepnote_cell_height": 172.4375,
    "deepnote_output_heights": [
     21.171875
    ]
   },
   "outputs": [
    {
     "output_type": "execute_result",
     "execution_count": 9,
     "data": {
      "text/plain": "0.4028398414133475"
     },
     "metadata": {}
    }
   ],
   "execution_count": 9
  },
  {
   "cell_type": "markdown",
   "source": "### LinearRegression",
   "metadata": {
    "cell_id": "b6fc6efc00c9490db62a61e2fd2050a3",
    "tags": [],
    "is_collapsed": false,
    "deepnote_cell_type": "text-cell-h3"
   }
  },
  {
   "cell_type": "code",
   "source": "from sklearn.linear_model import LinearRegression\nregressor_Linear = LinearRegression()\nscore_Linear = cross_validate(regressor_Linear, Xtrain, Ytrain, scoring='neg_mean_squared_error')\nscore_Linear",
   "metadata": {
    "cell_id": "85a489ea6c734b1a8e3e16d9b4a8620e",
    "tags": [],
    "deepnote_to_be_reexecuted": false,
    "source_hash": "c9ec696b",
    "execution_start": 1648075091841,
    "execution_millis": 75,
    "deepnote_cell_type": "code",
    "deepnote_cell_height": 210.8125,
    "deepnote_output_heights": [
     59.53125
    ]
   },
   "outputs": [
    {
     "output_type": "execute_result",
     "execution_count": 27,
     "data": {
      "text/plain": "{'fit_time': array([0.01928425, 0.00742531, 0.00697851, 0.00696445, 0.00676394]),\n 'score_time': array([0.00408959, 0.0035274 , 0.00417256, 0.00381303, 0.00367308]),\n 'test_score': array([-0.30222063, -0.32537384, -0.29377903, -0.29296258, -0.29265721])}"
     },
     "metadata": {}
    }
   ],
   "execution_count": 27
  },
  {
   "cell_type": "code",
   "source": "np.mean(score_Linear['test_score'])",
   "metadata": {
    "cell_id": "236e458084c44fc7b2f763d9112d1f3b",
    "tags": [],
    "deepnote_to_be_reexecuted": false,
    "source_hash": "cf7766d",
    "execution_start": 1648075120605,
    "execution_millis": 8,
    "deepnote_cell_type": "code",
    "deepnote_cell_height": 118.4375,
    "deepnote_output_heights": [
     21.171875
    ]
   },
   "outputs": [
    {
     "output_type": "execute_result",
     "execution_count": 28,
     "data": {
      "text/plain": "-0.30139865887671935"
     },
     "metadata": {}
    }
   ],
   "execution_count": 28
  },
  {
   "cell_type": "markdown",
   "source": "### Ridge",
   "metadata": {
    "cell_id": "2d280944c9464b6c91981793e5e27e9e",
    "tags": [],
    "is_collapsed": false,
    "deepnote_cell_type": "text-cell-h3"
   }
  },
  {
   "cell_type": "code",
   "source": "from sklearn.linear_model import Ridge\nregressor_Ridge = Ridge(random_state=0)\nscore_Ridge = cross_validate(regressor_Ridge, Xtrain, Ytrain, scoring='neg_mean_squared_error')\nscore_Ridge",
   "metadata": {
    "cell_id": "43525e166854470cb387b500bf5be656",
    "tags": [],
    "deepnote_to_be_reexecuted": false,
    "source_hash": "7cd1f7bb",
    "execution_start": 1648075168402,
    "execution_millis": 24,
    "deepnote_cell_type": "code",
    "deepnote_cell_height": 210.8125,
    "deepnote_output_heights": [
     59.53125
    ]
   },
   "outputs": [
    {
     "output_type": "execute_result",
     "execution_count": 29,
     "data": {
      "text/plain": "{'fit_time': array([0.01094818, 0.00672674, 0.00649309, 0.00653911, 0.00617123]),\n 'score_time': array([0.0042665 , 0.00379825, 0.00366378, 0.00370717, 0.00351   ]),\n 'test_score': array([-0.30222063, -0.32537046, -0.29377831, -0.29296256, -0.29265724])}"
     },
     "metadata": {}
    }
   ],
   "execution_count": 29
  },
  {
   "cell_type": "code",
   "source": "np.mean(score_Ridge['test_score'])",
   "metadata": {
    "cell_id": "6c30de8eeb564d6ea7e620f3603d2096",
    "tags": [],
    "deepnote_to_be_reexecuted": false,
    "source_hash": "d6ad64fc",
    "execution_start": 1648075182345,
    "execution_millis": 7,
    "deepnote_cell_type": "code",
    "deepnote_cell_height": 118.4375,
    "deepnote_output_heights": [
     21.171875
    ]
   },
   "outputs": [
    {
     "output_type": "execute_result",
     "execution_count": 30,
     "data": {
      "text/plain": "-0.3013978423217977"
     },
     "metadata": {}
    }
   ],
   "execution_count": 30
  },
  {
   "cell_type": "markdown",
   "source": "### Lasso",
   "metadata": {
    "cell_id": "a4ab41b36e804353aa311b67cbd114b3",
    "tags": [],
    "is_collapsed": false,
    "deepnote_cell_type": "text-cell-h3"
   }
  },
  {
   "cell_type": "code",
   "source": "from sklearn.linear_model import Lasso\nregressor_Lasso = Lasso(random_state=0)\nscore_Lasso = cross_validate(regressor_Lasso, Xtrain, Ytrain, scoring='neg_mean_squared_error')\nscore_Lasso",
   "metadata": {
    "cell_id": "f8ed79b491a243e58d7c61bba46984d7",
    "tags": [],
    "deepnote_to_be_reexecuted": false,
    "source_hash": "7a89453d",
    "execution_start": 1648075218450,
    "execution_millis": 32,
    "deepnote_cell_type": "code",
    "deepnote_cell_height": 210.8125,
    "deepnote_output_heights": [
     59.53125
    ]
   },
   "outputs": [
    {
     "output_type": "execute_result",
     "execution_count": 31,
     "data": {
      "text/plain": "{'fit_time': array([0.01611209, 0.00709081, 0.00708222, 0.00645113, 0.00626373]),\n 'score_time': array([0.00401783, 0.0047009 , 0.00374079, 0.00338292, 0.00334239]),\n 'test_score': array([-0.31042005, -0.29379119, -0.29803599, -0.30061325, -0.30237486])}"
     },
     "metadata": {}
    }
   ],
   "execution_count": 31
  },
  {
   "cell_type": "code",
   "source": "np.mean(score_Lasso['test_score'])",
   "metadata": {
    "cell_id": "77efca157a9d4507a249cde9e59375cc",
    "tags": [],
    "deepnote_to_be_reexecuted": false,
    "source_hash": "2ad7717d",
    "execution_start": 1648075227385,
    "execution_millis": 6,
    "deepnote_cell_type": "code",
    "deepnote_cell_height": 118.4375,
    "deepnote_output_heights": [
     21.171875
    ]
   },
   "outputs": [
    {
     "output_type": "execute_result",
     "execution_count": 32,
     "data": {
      "text/plain": "-0.3010470671748872"
     },
     "metadata": {}
    }
   ],
   "execution_count": 32
  },
  {
   "cell_type": "markdown",
   "source": "### DecisionTreeRegressor",
   "metadata": {
    "cell_id": "bd1d1686a8704fb79df6366c23112322",
    "tags": [],
    "is_collapsed": false,
    "deepnote_cell_type": "text-cell-h3"
   }
  },
  {
   "cell_type": "code",
   "source": "from sklearn.tree import DecisionTreeRegressor\nregressor_DT = DecisionTreeRegressor(random_state=0)\nscore_DT = cross_validate(regressor_DT, Xtrain, Ytrain, scoring='neg_mean_squared_error')\nscore_DT",
   "metadata": {
    "cell_id": "93ae603e89e54cafb08e8a4bc7673502",
    "tags": [],
    "deepnote_to_be_reexecuted": false,
    "source_hash": "21a607c5",
    "execution_start": 1648074704398,
    "execution_millis": 303,
    "deepnote_cell_type": "code",
    "deepnote_cell_height": 210.8125,
    "deepnote_output_heights": [
     59.53125
    ]
   },
   "outputs": [
    {
     "output_type": "execute_result",
     "execution_count": 19,
     "data": {
      "text/plain": "{'fit_time': array([0.06270814, 0.06375194, 0.06088281, 0.0636313 , 0.0630641 ]),\n 'score_time': array([0.00392532, 0.00384808, 0.00468683, 0.00380659, 0.00386667]),\n 'test_score': array([-0.52740361, -0.54577063, -0.5054554 , -0.50183335, -0.55465489])}"
     },
     "metadata": {}
    }
   ],
   "execution_count": 19
  },
  {
   "cell_type": "code",
   "source": "np.mean(score_DT['test_score'])",
   "metadata": {
    "cell_id": "b8fa156ef72a429e96c84e70e1aef103",
    "tags": [],
    "deepnote_to_be_reexecuted": false,
    "source_hash": "e5e12b7",
    "execution_start": 1648074479501,
    "execution_millis": 6,
    "deepnote_cell_type": "code",
    "deepnote_cell_height": 118.4375,
    "deepnote_output_heights": [
     21.171875
    ]
   },
   "outputs": [
    {
     "output_type": "execute_result",
     "execution_count": 14,
     "data": {
      "text/plain": "-0.5270235772655832"
     },
     "metadata": {}
    }
   ],
   "execution_count": 14
  },
  {
   "cell_type": "code",
   "source": "from sklearn.metrics import mean_squared_error\n  \nregressor_DT.fit(Xtrain, Ytrain)\nmean_squared_error(Ytest, regressor_DT.predict(Xtest))",
   "metadata": {
    "cell_id": "7ecb6f6935894a34a57e6b56858fa154",
    "tags": [],
    "deepnote_to_be_reexecuted": false,
    "source_hash": "ffc1e5b5",
    "execution_start": 1648074543738,
    "execution_millis": 48,
    "deepnote_cell_type": "code",
    "deepnote_cell_height": 172.4375,
    "deepnote_output_heights": [
     21.171875
    ]
   },
   "outputs": [
    {
     "output_type": "execute_result",
     "execution_count": 15,
     "data": {
      "text/plain": "0.550872371574661"
     },
     "metadata": {}
    }
   ],
   "execution_count": 15
  },
  {
   "cell_type": "markdown",
   "source": "### RandomForestRegressor",
   "metadata": {
    "cell_id": "e7779917c73b49f9acc2e117ceb3fb66",
    "tags": [],
    "is_collapsed": false,
    "deepnote_cell_type": "text-cell-h3"
   }
  },
  {
   "cell_type": "code",
   "source": "from sklearn.ensemble import RandomForestRegressor\nregressor_RF = RandomForestRegressor(random_state=0)\nscore_RF = cross_validate(regressor_RF, Xtrain, Ytrain, scoring='neg_mean_squared_error')\nscore_RF",
   "metadata": {
    "cell_id": "5de0cb9f69d94818b0aaad0b73f4cf91",
    "tags": [],
    "deepnote_to_be_reexecuted": false,
    "source_hash": "3b0c0ca0",
    "execution_start": 1648074680674,
    "execution_millis": 23675,
    "deepnote_cell_type": "code",
    "deepnote_cell_height": 210.8125,
    "deepnote_output_heights": [
     59.53125
    ]
   },
   "outputs": [
    {
     "output_type": "execute_result",
     "execution_count": 18,
     "data": {
      "text/plain": "{'fit_time': array([3.91401362, 3.89241743, 3.94652629, 4.10661745, 7.30127001]),\n 'score_time': array([0.09202814, 0.10202932, 0.11730051, 0.09511185, 0.09388304]),\n 'test_score': array([-0.29353161, -0.27481411, -0.27695089, -0.28159432, -0.28450016])}"
     },
     "metadata": {}
    }
   ],
   "execution_count": 18
  },
  {
   "cell_type": "code",
   "source": "np.mean(score_RF['test_score'])",
   "metadata": {
    "cell_id": "2b11c81f48aa4fc084d1dba41329ecba",
    "tags": [],
    "deepnote_to_be_reexecuted": false,
    "source_hash": "2ad532d1",
    "execution_start": 1648074711856,
    "execution_millis": 3,
    "deepnote_cell_type": "code",
    "deepnote_cell_height": 118.4375,
    "deepnote_output_heights": [
     21.171875
    ]
   },
   "outputs": [
    {
     "output_type": "execute_result",
     "execution_count": 20,
     "data": {
      "text/plain": "-0.2822782205566557"
     },
     "metadata": {}
    }
   ],
   "execution_count": 20
  },
  {
   "cell_type": "markdown",
   "source": "### GradientBoostingRegressor",
   "metadata": {
    "cell_id": "4c2026019a25409c9559825a8997219f",
    "tags": [],
    "is_collapsed": false,
    "deepnote_cell_type": "text-cell-h3"
   }
  },
  {
   "cell_type": "code",
   "source": "from sklearn.ensemble import GradientBoostingRegressor\nregressor_GB = GradientBoostingRegressor(random_state=0)\nscore_GB = cross_validate(regressor_GB, Xtrain, Ytrain, scoring='neg_mean_squared_error')\nscore_GB",
   "metadata": {
    "cell_id": "6f914bea4145442aac0894135ec93672",
    "tags": [],
    "deepnote_to_be_reexecuted": false,
    "source_hash": "c9c4f1a6",
    "execution_start": 1648074836450,
    "execution_millis": 4963,
    "deepnote_cell_type": "code",
    "deepnote_cell_height": 210.8125,
    "deepnote_output_heights": [
     59.53125
    ]
   },
   "outputs": [
    {
     "output_type": "execute_result",
     "execution_count": 21,
     "data": {
      "text/plain": "{'fit_time': array([0.99397516, 0.9651804 , 0.97703505, 0.98416448, 0.99517298]),\n 'score_time': array([0.00768685, 0.00768709, 0.00725079, 0.00727463, 0.00754905]),\n 'test_score': array([-0.27648513, -0.24920729, -0.2629464 , -0.27079364, -0.26331844])}"
     },
     "metadata": {}
    }
   ],
   "execution_count": 21
  },
  {
   "cell_type": "code",
   "source": "np.mean(score_GB['test_score'])",
   "metadata": {
    "cell_id": "da74612a348246799ffa32520f64ef16",
    "tags": [],
    "deepnote_to_be_reexecuted": false,
    "source_hash": "9ff49fd5",
    "execution_start": 1648074851799,
    "execution_millis": 7,
    "deepnote_cell_type": "code",
    "deepnote_cell_height": 118.453125,
    "deepnote_output_heights": [
     21.1875
    ]
   },
   "outputs": [
    {
     "output_type": "execute_result",
     "execution_count": 22,
     "data": {
      "text/plain": "-0.2645501801671458"
     },
     "metadata": {}
    }
   ],
   "execution_count": 22
  },
  {
   "cell_type": "markdown",
   "source": "### ",
   "metadata": {
    "cell_id": "3d39351695d549379376f303b9d95028",
    "tags": [],
    "is_collapsed": false,
    "deepnote_cell_type": "text-cell-h3"
   }
  },
  {
   "cell_type": "markdown",
   "source": "### MLPRegressor",
   "metadata": {
    "cell_id": "35417975b9a1452c9cde1062cd1126f8",
    "tags": [],
    "is_collapsed": false,
    "deepnote_cell_type": "text-cell-h3"
   }
  },
  {
   "cell_type": "code",
   "source": "from sklearn.neural_network import MLPRegressor\nregressor_MLP = MLPRegressor(random_state=0)\nscore_MLP = cross_validate(regressor_MLP, Xtrain, Ytrain, scoring='neg_mean_squared_error')\nscore_MLP",
   "metadata": {
    "cell_id": "01fe4d77dc46472db125c3b2dc2e3dca",
    "tags": [],
    "deepnote_to_be_reexecuted": false,
    "source_hash": "371437d1",
    "execution_start": 1648074911146,
    "execution_millis": 26857,
    "deepnote_cell_type": "code",
    "deepnote_cell_height": 230.03125,
    "deepnote_output_heights": [
     78.75
    ]
   },
   "outputs": [
    {
     "output_type": "execute_result",
     "execution_count": 23,
     "data": {
      "text/plain": "{'fit_time': array([7.16272974, 6.54909706, 1.90013909, 4.84182024, 6.38357902]),\n 'score_time': array([0.00780368, 0.00625825, 0.00633621, 0.00577474, 0.00598502]),\n 'test_score': array([-101.1934477 ,   -8.81196082,   -6.45970664,   -7.43043205,\n          -5.41664334])}"
     },
     "metadata": {}
    }
   ],
   "execution_count": 23
  },
  {
   "cell_type": "code",
   "source": "np.mean(score_MLP['test_score'])",
   "metadata": {
    "cell_id": "d1d45162e010442a8f50902a631c7bf0",
    "tags": [],
    "deepnote_to_be_reexecuted": false,
    "source_hash": "11845e82",
    "execution_start": 1648074959334,
    "execution_millis": 3,
    "deepnote_cell_type": "code",
    "deepnote_cell_height": 118.453125,
    "deepnote_output_heights": [
     21.1875
    ]
   },
   "outputs": [
    {
     "output_type": "execute_result",
     "execution_count": 24,
     "data": {
      "text/plain": "-25.862438112204465"
     },
     "metadata": {}
    }
   ],
   "execution_count": 24
  },
  {
   "cell_type": "markdown",
   "source": "# Task 4",
   "metadata": {
    "cell_id": "cc884e3627544b5fbd7ebf589ee308e8",
    "tags": [],
    "is_collapsed": false,
    "deepnote_cell_type": "text-cell-h1"
   }
  },
  {
   "cell_type": "markdown",
   "source": "<a style='text-decoration:none;line-height:16px;display:flex;color:#5B5B62;padding:10px;justify-content:end;' href='https://deepnote.com?utm_source=created-in-deepnote-cell&projectId=fbdc9cb3-9211-4dd7-b513-57970e6dfb0b' target=\"_blank\">\n<img alt='Created in deepnote.com' style='display:inline;max-height:16px;margin:0px;margin-right:7.5px;' src='data:image/svg+xml;base64,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' > </img>\nCreated in <span style='font-weight:600;margin-left:4px;'>Deepnote</span></a>",
   "metadata": {
    "tags": [],
    "created_in_deepnote_cell": true,
    "deepnote_cell_type": "markdown"
   }
  }
 ],
 "nbformat": 4,
 "nbformat_minor": 2,
 "metadata": {
  "orig_nbformat": 2,
  "deepnote": {
   "is_reactive": false
  },
  "deepnote_notebook_id": "f91bc38a-4774-4909-b425-0f3349a98628",
  "deepnote_execution_queue": []
 }
}